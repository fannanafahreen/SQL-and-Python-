{
 "cells": [
  {
   "cell_type": "code",
   "execution_count": null,
   "id": "076d4fc3-c4ed-460a-9022-0563158c5f6d",
   "metadata": {},
   "outputs": [
    {
     "name": "stdout",
     "output_type": "stream",
     "text": [
      "Processing customers.csv\n",
      "NaN values before replacement:\n",
      "customer_id                 0\n",
      "customer_unique_id          0\n",
      "customer_zip_code_prefix    0\n",
      "customer_city               0\n",
      "customer_state              0\n",
      "dtype: int64\n",
      "\n",
      "Processing geolocation.csv\n",
      "NaN values before replacement:\n",
      "geolocation_zip_code_prefix    0\n",
      "geolocation_lat                0\n",
      "geolocation_lng                0\n",
      "geolocation_city               0\n",
      "geolocation_state              0\n",
      "dtype: int64\n",
      "\n"
     ]
    }
   ],
   "source": [
    "import pandas as pd\n",
    "import mysql.connector\n",
    "import os\n",
    "\n",
    "# List of CSV files and their corresponding table names\n",
    "csv_files = [\n",
    "    ('customers.csv', 'customers'),\n",
    "    ('geolocation.csv', 'geolocation'),\n",
    "    ('order_items.csv', 'order_items'),\n",
    "    ('orders.csv', 'orders'),\n",
    "    ('payments.csv', 'payments'),\n",
    "    ('products.csv', 'products'),\n",
    "    ('sellers.csv', 'sellers')  # Added payments.csv for specific handling\n",
    "]\n",
    "\n",
    "# Connect to the MySQL database\n",
    "conn = mysql.connector.connect(\n",
    "    host='localhost',\n",
    "    user='root',\n",
    "    password='@NSUabcd1234',\n",
    "    database='ecommerce'\n",
    ")\n",
    "cursor = conn.cursor()\n",
    "\n",
    "# Folder containing the CSV files\n",
    "folder_path = 'E:/dataset/Ecommers'\n",
    "\n",
    "def get_sql_type(dtype):\n",
    "    if pd.api.types.is_integer_dtype(dtype):\n",
    "        return 'INT'\n",
    "    elif pd.api.types.is_float_dtype(dtype):\n",
    "        return 'FLOAT'\n",
    "    elif pd.api.types.is_bool_dtype(dtype):\n",
    "        return 'BOOLEAN'\n",
    "    elif pd.api.types.is_datetime64_any_dtype(dtype):\n",
    "        return 'DATETIME'\n",
    "    else:\n",
    "        return 'TEXT'\n",
    "\n",
    "for csv_file, table_name in csv_files:\n",
    "    file_path = os.path.join(folder_path, csv_file)\n",
    "    \n",
    "    # Read the CSV file into a pandas DataFrame\n",
    "    df = pd.read_csv(file_path)\n",
    "    \n",
    "    # Replace NaN with None to handle SQL NULL\n",
    "    df = df.where(pd.notnull(df), None)\n",
    "    \n",
    "    # Debugging: Check for NaN values\n",
    "    print(f\"Processing {csv_file}\")\n",
    "    print(f\"NaN values before replacement:\\n{df.isnull().sum()}\\n\")\n",
    "\n",
    "    # Clean column names\n",
    "    df.columns = [col.replace(' ', '_').replace('-', '_').replace('.', '_') for col in df.columns]\n",
    "\n",
    "    # Generate the CREATE TABLE statement with appropriate data types\n",
    "    columns = ', '.join([f'`{col}` {get_sql_type(df[col].dtype)}' for col in df.columns])\n",
    "    create_table_query = f'CREATE TABLE IF NOT EXISTS `{table_name}` ({columns})'\n",
    "    cursor.execute(create_table_query)\n",
    "\n",
    "    # Insert DataFrame data into the MySQL table\n",
    "    for _, row in df.iterrows():\n",
    "        # Convert row to tuple and handle NaN/None explicitly\n",
    "        values = tuple(None if pd.isna(x) else x for x in row)\n",
    "        sql = f\"INSERT INTO `{table_name}` ({', '.join(['`' + col + '`' for col in df.columns])}) VALUES ({', '.join(['%s'] * len(row))})\"\n",
    "        cursor.execute(sql, values)\n",
    "\n",
    "    # Commit the transaction for the current CSV file\n",
    "    conn.commit()\n",
    "\n",
    "# Close the connection\n",
    "conn.close()"
   ]
  },
  {
   "cell_type": "code",
   "execution_count": 1,
   "id": "04d55f9e-68ef-4de1-8a9b-8241fce61410",
   "metadata": {},
   "outputs": [],
   "source": [
    "import pandas as pd\n",
    "import matplotlib.pyplot as plt\n",
    "import seaborn as sns\n",
    "import mysql.connector\n",
    "\n",
    "\n",
    "db= mysql.connector.connect(host='localhost',\n",
    "                         user='root',\n",
    "                         password='@NSUabcd1234',\n",
    "                         database='ecommerce')   # tuple\n",
    "cur=db.cursor()  # avtivating cursor under database. method is used in Python database\n",
    "                 #libraries. This cursor object allows you to execute SQL queries and \n",
    "                 #interact with the database."
   ]
  },
  {
   "cell_type": "markdown",
   "id": "9b602a2c-fbf8-447d-be46-9ab27a8c5f3f",
   "metadata": {},
   "source": [
    "# List all unique cities where customers are located.\n"
   ]
  },
  {
   "cell_type": "code",
   "execution_count": 2,
   "id": "427f6a22-f3a5-4f50-bce5-fced2277fe6b",
   "metadata": {},
   "outputs": [
    {
     "data": {
      "text/html": [
       "<div>\n",
       "<style scoped>\n",
       "    .dataframe tbody tr th:only-of-type {\n",
       "        vertical-align: middle;\n",
       "    }\n",
       "\n",
       "    .dataframe tbody tr th {\n",
       "        vertical-align: top;\n",
       "    }\n",
       "\n",
       "    .dataframe thead th {\n",
       "        text-align: right;\n",
       "    }\n",
       "</style>\n",
       "<table border=\"1\" class=\"dataframe\">\n",
       "  <thead>\n",
       "    <tr style=\"text-align: right;\">\n",
       "      <th></th>\n",
       "      <th>0</th>\n",
       "    </tr>\n",
       "  </thead>\n",
       "  <tbody>\n",
       "    <tr>\n",
       "      <th>0</th>\n",
       "      <td>franca</td>\n",
       "    </tr>\n",
       "    <tr>\n",
       "      <th>1</th>\n",
       "      <td>sao bernardo do campo</td>\n",
       "    </tr>\n",
       "    <tr>\n",
       "      <th>2</th>\n",
       "      <td>sao paulo</td>\n",
       "    </tr>\n",
       "    <tr>\n",
       "      <th>3</th>\n",
       "      <td>mogi das cruzes</td>\n",
       "    </tr>\n",
       "    <tr>\n",
       "      <th>4</th>\n",
       "      <td>campinas</td>\n",
       "    </tr>\n",
       "  </tbody>\n",
       "</table>\n",
       "</div>"
      ],
      "text/plain": [
       "                       0\n",
       "0                 franca\n",
       "1  sao bernardo do campo\n",
       "2              sao paulo\n",
       "3        mogi das cruzes\n",
       "4               campinas"
      ]
     },
     "execution_count": 2,
     "metadata": {},
     "output_type": "execute_result"
    }
   ],
   "source": [
    "query = \"\"\" select distinct customer_city  from customers \"\"\"\n",
    "\n",
    "cur. execute(query)\n",
    "data= cur.fetchall()\n",
    "df= pd.DataFrame(data)\n",
    "df.head()"
   ]
  },
  {
   "cell_type": "markdown",
   "id": "11672035-a074-4329-ad3a-9634070e7783",
   "metadata": {},
   "source": [
    "# Count the number of orders placed in 2017."
   ]
  },
  {
   "cell_type": "code",
   "execution_count": 3,
   "id": "40d24671-71cd-406f-9159-3d970548250e",
   "metadata": {},
   "outputs": [
    {
     "data": {
      "text/plain": [
       "('Total order placed in 2017 is ', 135303)"
      ]
     },
     "execution_count": 3,
     "metadata": {},
     "output_type": "execute_result"
    }
   ],
   "source": [
    " query = \"\"\" select count(order_id) from orders where year(order_purchase_timestamp)=2017 \"\"\"\n",
    "\n",
    "cur. execute(query)\n",
    "data= cur.fetchall()\n",
    "\"Total order placed in 2017 is \",data[0][0]"
   ]
  },
  {
   "cell_type": "markdown",
   "id": "cc40b7a8-9074-4cef-bf74-c4cd25dab68e",
   "metadata": {},
   "source": [
    "#  Find the total sales per category."
   ]
  },
  {
   "cell_type": "code",
   "execution_count": 10,
   "id": "b9a519da-8b74-4f75-809d-1510aa5f720e",
   "metadata": {},
   "outputs": [
    {
     "data": {
      "text/html": [
       "<div>\n",
       "<style scoped>\n",
       "    .dataframe tbody tr th:only-of-type {\n",
       "        vertical-align: middle;\n",
       "    }\n",
       "\n",
       "    .dataframe tbody tr th {\n",
       "        vertical-align: top;\n",
       "    }\n",
       "\n",
       "    .dataframe thead th {\n",
       "        text-align: right;\n",
       "    }\n",
       "</style>\n",
       "<table border=\"1\" class=\"dataframe\">\n",
       "  <thead>\n",
       "    <tr style=\"text-align: right;\">\n",
       "      <th></th>\n",
       "      <th>category</th>\n",
       "      <th>sales</th>\n",
       "    </tr>\n",
       "  </thead>\n",
       "  <tbody>\n",
       "    <tr>\n",
       "      <th>0</th>\n",
       "      <td>perfumery</td>\n",
       "      <td>4053909.28</td>\n",
       "    </tr>\n",
       "    <tr>\n",
       "      <th>1</th>\n",
       "      <td>Furniture Decoration</td>\n",
       "      <td>11441411.13</td>\n",
       "    </tr>\n",
       "    <tr>\n",
       "      <th>2</th>\n",
       "      <td>telephony</td>\n",
       "      <td>3895056.41</td>\n",
       "    </tr>\n",
       "    <tr>\n",
       "      <th>3</th>\n",
       "      <td>bed table bath</td>\n",
       "      <td>13700429.37</td>\n",
       "    </tr>\n",
       "    <tr>\n",
       "      <th>4</th>\n",
       "      <td>automotive</td>\n",
       "      <td>6818354.65</td>\n",
       "    </tr>\n",
       "    <tr>\n",
       "      <th>...</th>\n",
       "      <td>...</td>\n",
       "      <td>...</td>\n",
       "    </tr>\n",
       "    <tr>\n",
       "      <th>69</th>\n",
       "      <td>cds music dvds</td>\n",
       "      <td>9595.44</td>\n",
       "    </tr>\n",
       "    <tr>\n",
       "      <th>70</th>\n",
       "      <td>La Cuisine</td>\n",
       "      <td>23308.24</td>\n",
       "    </tr>\n",
       "    <tr>\n",
       "      <th>71</th>\n",
       "      <td>Fashion Children's Clothing</td>\n",
       "      <td>6285.36</td>\n",
       "    </tr>\n",
       "    <tr>\n",
       "      <th>72</th>\n",
       "      <td>PC Gamer</td>\n",
       "      <td>17395.44</td>\n",
       "    </tr>\n",
       "    <tr>\n",
       "      <th>73</th>\n",
       "      <td>insurance and services</td>\n",
       "      <td>2596.08</td>\n",
       "    </tr>\n",
       "  </tbody>\n",
       "</table>\n",
       "<p>74 rows × 2 columns</p>\n",
       "</div>"
      ],
      "text/plain": [
       "                       category        sales\n",
       "0                     perfumery   4053909.28\n",
       "1          Furniture Decoration  11441411.13\n",
       "2                     telephony   3895056.41\n",
       "3                bed table bath  13700429.37\n",
       "4                    automotive   6818354.65\n",
       "..                          ...          ...\n",
       "69               cds music dvds      9595.44\n",
       "70                   La Cuisine     23308.24\n",
       "71  Fashion Children's Clothing      6285.36\n",
       "72                     PC Gamer     17395.44\n",
       "73       insurance and services      2596.08\n",
       "\n",
       "[74 rows x 2 columns]"
      ]
     },
     "execution_count": 10,
     "metadata": {},
     "output_type": "execute_result"
    }
   ],
   "source": [
    " query = \"\"\"select products.product_category category,round(sum(payments.payment_value),2) sales \n",
    " from products join order_items on products.product_id = order_items.product_id\n",
    " join payments on payments.order_id=order_items.order_id\n",
    " group by category\"\"\"\n",
    "\n",
    "cur. execute(query)\n",
    "\n",
    "data = cur.fetchall()\n",
    "\n",
    "df= pd.DataFrame(data,columns =[\"category\",\"sales\"])\n",
    "df"
   ]
  },
  {
   "cell_type": "markdown",
   "id": "69c4099a-b504-4880-9b13-2a301bb8d37a",
   "metadata": {},
   "source": [
    "# Calculate the percentage of orders that were paid in installments."
   ]
  },
  {
   "cell_type": "code",
   "execution_count": 16,
   "id": "3c7d9ebb-74ad-41d8-89c8-9479ad406086",
   "metadata": {},
   "outputs": [
    {
     "data": {
      "text/plain": [
       "('Calculate the percentage of orders that were paid in installments',\n",
       " Decimal('99.9981'))"
      ]
     },
     "execution_count": 16,
     "metadata": {},
     "output_type": "execute_result"
    }
   ],
   "source": [
    " query = \"\"\"select ((sum(case when payment_installments >=1 then 1 else 0 end))/count(*))*100\n",
    " from payments\"\"\"\n",
    "\n",
    "cur. execute(query)\n",
    "\n",
    "data = cur.fetchall()\n",
    "\n",
    "\"Calculate the percentage of orders that were paid in installments\",data[0][0]"
   ]
  },
  {
   "cell_type": "markdown",
   "id": "275212b3-bc94-4e60-b865-d5e17cf9cba7",
   "metadata": {},
   "source": [
    "# Count the number of customers from each state."
   ]
  },
  {
   "cell_type": "code",
   "execution_count": 28,
   "id": "472b7c54-996d-4617-81ee-7042e0afb08e",
   "metadata": {},
   "outputs": [
    {
     "data": {
      "image/png": "[encoded data removed]",
      "text/plain": [
       "<Figure size 800x300 with 1 Axes>"
      ]
     },
     "metadata": {},
     "output_type": "display_data"
    }
   ],
   "source": [
    " query = \"\"\"select customer_state, count(customer_unique_id) from customers\n",
    " group by customer_state\"\"\"\n",
    "\n",
    "cur. execute(query)\n",
    "\n",
    "data = cur.fetchall()\n",
    "df= pd.DataFrame(data,columns = [\"State\",\"Num_of_Customers\"]) #to make the table\n",
    "df =df.sort_values(by = \"Num_of_Customers\",ascending= False) #to sort the data\n",
    "\n",
    "plt.figure(figsize = (8,3))\n",
    "plt.bar(df[\"State\"],df[\"Num_of_Customers\"])\n",
    "plt.xticks(rotation=90)\n",
    "plt.show()"
   ]
  },
  {
   "cell_type": "markdown",
   "id": "7306b6a4-add0-4113-be7d-9d13da03a8ac",
   "metadata": {},
   "source": [
    "# Calculate the number of orders per month in 2018."
   ]
  },
  {
   "cell_type": "code",
   "execution_count": 50,
   "id": "8fa71793-f135-4d42-9a30-2cecfee67383",
   "metadata": {},
   "outputs": [
    {
     "data": {
      "text/plain": [
       "<function matplotlib.pyplot.show(close=None, block=None)>"
      ]
     },
     "execution_count": 50,
     "metadata": {},
     "output_type": "execute_result"
    },
    {
     "data": {
      "image/png": "[encoded data removed]",
      "text/plain": [
       "<Figure size 640x480 with 1 Axes>"
      ]
     },
     "metadata": {},
     "output_type": "display_data"
    }
   ],
   "source": [
    " query = \"\"\"select monthname(order_purchase_timestamp) months,count(order_id) order_count\n",
    " from orders where year(order_purchase_timestamp)=2018\n",
    " group by months\"\"\"\n",
    "\n",
    "cur. execute(query)\n",
    "\n",
    "data = cur.fetchall()\n",
    "df=pd.DataFrame(data, columns = [\"Months\",\"order_counts\"])\n",
    "\n",
    "o= [\"January\",\"February\",\"March\",\"April\",\"May\",\"June\",\"July\",\"August\",\"September\",\"October\"]\n",
    "\n",
    "ax=sns.barplot(x = df[\"Months\"],y= df[\"order_counts\"], data=df,order=o,color= \"lavender\")\n",
    "\n",
    "plt.title(\"Count of orders by Months IN 2018\")\n",
    "plt.xticks(rotation=90) # to give x axis names a angle\n",
    "ax.bar_label(ax.containers[0]) #to give lebel in each bar\n",
    "plt.show"
   ]
  },
  {
   "cell_type": "markdown",
   "id": "e70aa577-60c0-49db-8dc7-640a93a063e6",
   "metadata": {},
   "source": [
    "# Find the average number of products per order, grouped by customer city."
   ]
  },
  {
   "cell_type": "code",
   "execution_count": 58,
   "id": "29f11f86-1bfe-4884-b03a-6cb102c2ebe2",
   "metadata": {},
   "outputs": [
    {
     "data": {
      "text/html": [
       "<div>\n",
       "<style scoped>\n",
       "    .dataframe tbody tr th:only-of-type {\n",
       "        vertical-align: middle;\n",
       "    }\n",
       "\n",
       "    .dataframe tbody tr th {\n",
       "        vertical-align: top;\n",
       "    }\n",
       "\n",
       "    .dataframe thead th {\n",
       "        text-align: right;\n",
       "    }\n",
       "</style>\n",
       "<table border=\"1\" class=\"dataframe\">\n",
       "  <thead>\n",
       "    <tr style=\"text-align: right;\">\n",
       "      <th></th>\n",
       "      <th>city</th>\n",
       "      <th>average_num_product_per_order</th>\n",
       "    </tr>\n",
       "  </thead>\n",
       "  <tbody>\n",
       "    <tr>\n",
       "      <th>0</th>\n",
       "      <td>padre carvalho</td>\n",
       "      <td>42.0000</td>\n",
       "    </tr>\n",
       "    <tr>\n",
       "      <th>1</th>\n",
       "      <td>celso ramos</td>\n",
       "      <td>39.0000</td>\n",
       "    </tr>\n",
       "    <tr>\n",
       "      <th>2</th>\n",
       "      <td>datas</td>\n",
       "      <td>36.0000</td>\n",
       "    </tr>\n",
       "    <tr>\n",
       "      <th>3</th>\n",
       "      <td>candido godoi</td>\n",
       "      <td>36.0000</td>\n",
       "    </tr>\n",
       "    <tr>\n",
       "      <th>4</th>\n",
       "      <td>matias olimpio</td>\n",
       "      <td>30.0000</td>\n",
       "    </tr>\n",
       "    <tr>\n",
       "      <th>5</th>\n",
       "      <td>cidelandia</td>\n",
       "      <td>24.0000</td>\n",
       "    </tr>\n",
       "    <tr>\n",
       "      <th>6</th>\n",
       "      <td>curralinho</td>\n",
       "      <td>24.0000</td>\n",
       "    </tr>\n",
       "    <tr>\n",
       "      <th>7</th>\n",
       "      <td>picarra</td>\n",
       "      <td>24.0000</td>\n",
       "    </tr>\n",
       "    <tr>\n",
       "      <th>8</th>\n",
       "      <td>morro de sao paulo</td>\n",
       "      <td>24.0000</td>\n",
       "    </tr>\n",
       "    <tr>\n",
       "      <th>9</th>\n",
       "      <td>teixeira soares</td>\n",
       "      <td>24.0000</td>\n",
       "    </tr>\n",
       "  </tbody>\n",
       "</table>\n",
       "</div>"
      ],
      "text/plain": [
       "                 city average_num_product_per_order\n",
       "0      padre carvalho                       42.0000\n",
       "1         celso ramos                       39.0000\n",
       "2               datas                       36.0000\n",
       "3       candido godoi                       36.0000\n",
       "4      matias olimpio                       30.0000\n",
       "5          cidelandia                       24.0000\n",
       "6          curralinho                       24.0000\n",
       "7             picarra                       24.0000\n",
       "8  morro de sao paulo                       24.0000\n",
       "9     teixeira soares                       24.0000"
      ]
     },
     "execution_count": 58,
     "metadata": {},
     "output_type": "execute_result"
    }
   ],
   "source": [
    " query = \"\"\"with count_per_order as\n",
    " \n",
    "(select orders.order_id , orders.customer_id , count(order_items.order_id) as oc\n",
    "from orders join order_items\n",
    "on orders.order_id = order_items.order_id\n",
    "group by  orders.order_id , orders.customer_id)\n",
    "\n",
    "select customers.customer_city, avg(count_per_order.oc) average_orders\n",
    "from customers join count_per_order\n",
    "on customers.customer_id = count_per_order.customer_id\n",
    "group by customers.customer_city order by average_orders desc\"\"\"\n",
    "\n",
    "cur. execute(query)\n",
    "\n",
    "data = cur.fetchall()\n",
    "df= pd.DataFrame(data, columns = [\"city\",\"average_num_product_per_order\"])\n",
    "df.head(10)\n"
   ]
  },
  {
   "cell_type": "markdown",
   "id": "d774e633-84f7-4925-ad51-4e103f87ebaa",
   "metadata": {},
   "source": [
    "#  Calculate the percentage of total revenue contributed by each product category."
   ]
  },
  {
   "cell_type": "code",
   "execution_count": 5,
   "id": "b9e69fe7-c61b-4448-86cd-77acd2e72850",
   "metadata": {},
   "outputs": [
    {
     "data": {
      "text/html": [
       "<div>\n",
       "<style scoped>\n",
       "    .dataframe tbody tr th:only-of-type {\n",
       "        vertical-align: middle;\n",
       "    }\n",
       "\n",
       "    .dataframe tbody tr th {\n",
       "        vertical-align: top;\n",
       "    }\n",
       "\n",
       "    .dataframe thead th {\n",
       "        text-align: right;\n",
       "    }\n",
       "</style>\n",
       "<table border=\"1\" class=\"dataframe\">\n",
       "  <thead>\n",
       "    <tr style=\"text-align: right;\">\n",
       "      <th></th>\n",
       "      <th>category</th>\n",
       "      <th>percentage of total revenue</th>\n",
       "    </tr>\n",
       "  </thead>\n",
       "  <tbody>\n",
       "    <tr>\n",
       "      <th>0</th>\n",
       "      <td>bed table bath</td>\n",
       "      <td>42.790114</td>\n",
       "    </tr>\n",
       "    <tr>\n",
       "      <th>1</th>\n",
       "      <td>HEALTH BEAUTY</td>\n",
       "      <td>41.411365</td>\n",
       "    </tr>\n",
       "    <tr>\n",
       "      <th>2</th>\n",
       "      <td>computer accessories</td>\n",
       "      <td>39.611296</td>\n",
       "    </tr>\n",
       "    <tr>\n",
       "      <th>3</th>\n",
       "      <td>Furniture Decoration</td>\n",
       "      <td>35.734595</td>\n",
       "    </tr>\n",
       "    <tr>\n",
       "      <th>4</th>\n",
       "      <td>Watches present</td>\n",
       "      <td>35.710615</td>\n",
       "    </tr>\n",
       "    <tr>\n",
       "      <th>5</th>\n",
       "      <td>sport leisure</td>\n",
       "      <td>34.783901</td>\n",
       "    </tr>\n",
       "    <tr>\n",
       "      <th>6</th>\n",
       "      <td>housewares</td>\n",
       "      <td>27.353785</td>\n",
       "    </tr>\n",
       "    <tr>\n",
       "      <th>7</th>\n",
       "      <td>automotive</td>\n",
       "      <td>21.295550</td>\n",
       "    </tr>\n",
       "    <tr>\n",
       "      <th>8</th>\n",
       "      <td>Garden tools</td>\n",
       "      <td>20.945404</td>\n",
       "    </tr>\n",
       "    <tr>\n",
       "      <th>9</th>\n",
       "      <td>Cool Stuff</td>\n",
       "      <td>19.481647</td>\n",
       "    </tr>\n",
       "  </tbody>\n",
       "</table>\n",
       "</div>"
      ],
      "text/plain": [
       "               category  percentage of total revenue\n",
       "0        bed table bath                    42.790114\n",
       "1         HEALTH BEAUTY                    41.411365\n",
       "2  computer accessories                    39.611296\n",
       "3  Furniture Decoration                    35.734595\n",
       "4       Watches present                    35.710615\n",
       "5         sport leisure                    34.783901\n",
       "6            housewares                    27.353785\n",
       "7            automotive                    21.295550\n",
       "8          Garden tools                    20.945404\n",
       "9            Cool Stuff                    19.481647"
      ]
     },
     "execution_count": 5,
     "metadata": {},
     "output_type": "execute_result"
    }
   ],
   "source": [
    " query = \"\"\"select products.product_category category,\n",
    "((sum(payments.payment_value))/(select sum(payment_value) from payments))*100 sales \n",
    " from products join order_items \n",
    " on products.product_id = order_items.product_id\n",
    " join payments \n",
    " on payments.order_id=order_items.order_id\n",
    " group by category order by sales desc\"\"\"\n",
    "\n",
    "cur. execute(query)\n",
    "\n",
    "data = cur.fetchall()\n",
    "\n",
    "df= pd.DataFrame(data,columns =[\"category\",\"percentage of total revenue\"])\n",
    "df.head(10)"
   ]
  },
  {
   "cell_type": "markdown",
   "id": "a3b55638-8221-43e7-84b1-4ec16a551ed6",
   "metadata": {},
   "source": [
    "# Identify the correlation between product price and the number of times a product has been purchased."
   ]
  },
  {
   "cell_type": "code",
   "execution_count": 14,
   "id": "d00c9a0b-8d63-4bc1-9890-7798051c0eda",
   "metadata": {},
   "outputs": [
    {
     "data": {
      "text/plain": [
       "array([[ 1.        , -0.02804575],\n",
       "       [-0.02804575,  1.        ]])"
      ]
     },
     "execution_count": 14,
     "metadata": {},
     "output_type": "execute_result"
    }
   ],
   "source": [
    "import numpy as np\n",
    "query=\"\"\"select  products.product_category, order_items.product_id, order_items.order_item_id, order_items.price,\n",
    "count(order_items.order_id) \n",
    "as Number_of_purchase\n",
    "from order_items join products\n",
    "on order_items.product_id = products.product_id\n",
    "group by products.product_category,order_items.product_id,order_items.order_item_id,order_items.price\n",
    "order by Number_of_purchase desc\"\"\"\n",
    "\n",
    "cur. execute(query)\n",
    "\n",
    "data = cur.fetchall()\n",
    "\n",
    "df = pd.DataFrame(data,columns =[\"category\",\"Product_id\",\"Order item number\",\"Number of times of purchase\",\"Prices\"])\n",
    "#df.head(10)\n",
    "\n",
    "arr1 =df[\"Number of times of purchase\"]\n",
    "arr2 =df[\"Prices\"]\n",
    "\n",
    "np.corrcoef([arr1,arr2]) "
   ]
  },
  {
   "cell_type": "code",
   "execution_count": null,
   "id": "e620f7d2-ef03-41c3-94a9-c5ec6a7eb5ef",
   "metadata": {},
   "outputs": [],
   "source": []
  }
 ],
 "metadata": {
  "kernelspec": {
   "display_name": "Python 3 (ipykernel)",
   "language": "python",
   "name": "python3"
  },
  "language_info": {
   "codemirror_mode": {
    "name": "ipython",
    "version": 3
   },
   "file_extension": ".py",
   "mimetype": "text/x-python",
   "name": "python",
   "nbconvert_exporter": "python",
   "pygments_lexer": "ipython3",
   "version": "3.12.7"
  }
 },
 "nbformat": 4,
 "nbformat_minor": 5
}
